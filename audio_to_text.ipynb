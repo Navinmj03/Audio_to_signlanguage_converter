{
 "cells": [
  {
   "cell_type": "code",
   "execution_count": 2,
   "metadata": {},
   "outputs": [
    {
     "name": "stdout",
     "output_type": "stream",
     "text": [
      "Text Result: nahin mujhe majak Nahin udana apni chij Ka Main Nahin bataunga\n"
     ]
    }
   ],
   "source": [
    "import speech_recognition as sr\n",
    "from pydub import AudioSegment\n",
    "from pydub.playback import play\n",
    "\n",
    "# Function to convert MP3 to text\n",
    "def mp3_to_text(mp3_file_path):\n",
    "    # Load the MP3 file\n",
    "    audio = AudioSegment.from_mp3(mp3_file_path)\n",
    "\n",
    "    # Convert stereo to mono (if needed)\n",
    "    if audio.channels == 2:\n",
    "        audio = audio.set_channels(1)\n",
    "\n",
    "    # Save the mono audio as a temporary WAV file\n",
    "    wav_file_path = \"temp.wav\"\n",
    "    audio.export(wav_file_path, format=\"wav\")\n",
    "\n",
    "    # Recognize speech using Google Web Speech API\n",
    "    recognizer = sr.Recognizer()\n",
    "    with sr.AudioFile(wav_file_path) as source:\n",
    "        audio_data = recognizer.record(source)\n",
    "\n",
    "    try:\n",
    "        # Use Google Web Speech API to convert audio to text\n",
    "        text = recognizer.recognize_google(audio_data)\n",
    "        return text\n",
    "    except sr.UnknownValueError:\n",
    "        return \"Speech Recognition could not understand audio\"\n",
    "    except sr.RequestError as e:\n",
    "        return f\"Could not request results from Google Web Speech API; {e}\"\n",
    "\n",
    "# Example usage\n",
    "mp3_file_path = \"your_audio_file.mp3\"\n",
    "text_result = mp3_to_text(r'C:\\Users\\ashik\\OneDrive\\Desktop\\IT\\computer vision\\opencv\\hindi audio.mpeg')\n",
    "print(\"Text Result:\", text_result)\n"
   ]
  }
 ],
 "metadata": {
  "kernelspec": {
   "display_name": "Python 3",
   "language": "python",
   "name": "python3"
  },
  "language_info": {
   "codemirror_mode": {
    "name": "ipython",
    "version": 3
   },
   "file_extension": ".py",
   "mimetype": "text/x-python",
   "name": "python",
   "nbconvert_exporter": "python",
   "pygments_lexer": "ipython3",
   "version": "3.9.4"
  },
  "orig_nbformat": 4
 },
 "nbformat": 4,
 "nbformat_minor": 2
}
